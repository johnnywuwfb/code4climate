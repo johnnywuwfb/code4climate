{
  "cells": [
    {
      "cell_type": "markdown",
      "id": "09a84661",
      "metadata": {
        "colab_type": "text",
        "id": "view-in-github"
      },
      "source": [
        "<a href=\"https://colab.research.google.com/github/kmmukut/code4climate/blob/main/monday/Monday.ipynb\" target=\"_parent\"><img src=\"https://colab.research.google.com/assets/colab-badge.svg\" alt=\"Open In Colab\"/></a>"
      ]
    },
    {
      "cell_type": "markdown",
      "id": "5a409364",
      "metadata": {
        "id": "5a409364"
      },
      "source": [
        "***Hello World!***\n",
        "\n",
        "*My first python code. Printing out a string of characters* using `print()`\n"
      ]
    },
    {
      "cell_type": "code",
      "execution_count": null,
      "id": "c998c9fe",
      "metadata": {
        "colab": {
          "base_uri": "https://localhost:8080/"
        },
        "id": "c998c9fe",
        "outputId": "35101d97-21e3-480b-bb08-a9877d8a2d0a"
      },
      "outputs": [
        {
          "name": "stdout",
          "output_type": "stream",
          "text": [
            "Hello World! This is my first python code\n"
          ]
        }
      ],
      "source": [
        "print('Hello World! This is my first python code')"
      ]
    },
    {
      "cell_type": "markdown",
      "id": "NvOJHdMayDc9",
      "metadata": {
        "id": "NvOJHdMayDc9"
      },
      "source": [
        "***How to get user input into python!***\n",
        "\n",
        "*Scan user input. Get an input in the form of a string of characters using* `input()`\n",
        "\n",
        "`\"\\n\"` *character can be used to get to a new line at the end of a line.*"
      ]
    },
    {
      "cell_type": "code",
      "execution_count": null,
      "id": "11141e60",
      "metadata": {
        "colab": {
          "base_uri": "https://localhost:8080/"
        },
        "id": "11141e60",
        "outputId": "4efb0f06-316b-46b0-f6cc-246e2a0d6beb"
      },
      "outputs": [
        {
          "name": "stdout",
          "output_type": "stream",
          "text": [
            "What is your name? \n",
            "Python\n",
            "Hi!  Python\n"
          ]
        }
      ],
      "source": [
        "name=input('What is your name? \\n')\n",
        "print('Hi! ', name)"
      ]
    },
    {
      "cell_type": "markdown",
      "id": "OeSp6c_u1YLq",
      "metadata": {
        "id": "OeSp6c_u1YLq"
      },
      "source": [
        "***Practical example: Creating Mad Libs***\n",
        "\n",
        "*Using a series of `input()` and `print()` statements to create a Mad Libs*\n",
        "\n",
        "`#` *can be used to create inline comments*\n",
        "\n",
        "`''' Multi-line comments '''`\n"
      ]
    },
    {
      "cell_type": "code",
      "execution_count": 1,
      "id": "PB_jHXSZ0OAD",
      "metadata": {
        "colab": {
          "base_uri": "https://localhost:8080/"
        },
        "id": "PB_jHXSZ0OAD",
        "outputId": "7266474d-0f35-4ab5-d90e-464917551e98"
      },
      "outputs": [
        {
          "name": "stdout",
          "output_type": "stream",
          "text": [
            "------------------------------------------\n",
            "Be kind to your cat - footed tigers\n",
            "For a duck may be somebody's cow ,\n",
            "Be kind to your tigers in Chicago\n",
            "Where the weather is always dull . \n",
            "\n",
            "You may think that is this the jungle ,\n",
            "Well it is.\n",
            "------------------------------------------\n"
          ]
        }
      ],
      "source": [
        "'''\n",
        "This is a mad libs code\n",
        "Get some nouns and adjectives from a user\n",
        "'''\n",
        "\n",
        "noun1 = input('Give me a noun: ')\n",
        "\n",
        "plural_noun1 = input('Give me a plural noun: ')\n",
        "\n",
        "noun2 = input('Give me a noun: ')\n",
        "\n",
        "place1 = input('Name a place: ')\n",
        "\n",
        "adjective1 = input('Give me an adjective (describing word): ')\n",
        "\n",
        "noun3 = input('Give me a noun: ')\n",
        "\n",
        "# Print a story from the inputs read\n",
        "\n",
        "print('------------------------------------------')\n",
        "\n",
        "print('Be kind to your', noun1, '- footed', plural_noun1)\n",
        "\n",
        "print('For a duck may be somebody\\'s', noun2, ',')\n",
        "\n",
        "print('Be kind to your', plural_noun1, 'in', place1)\n",
        "\n",
        "print('Where the weather is always', adjective1, '. \\n')\n",
        "\n",
        "print('You may think that is this the', noun3, ',')\n",
        "\n",
        "print('Well it is.')\n",
        "\n",
        "print('------------------------------------------')"
      ]
    }
  ],
  "metadata": {
    "colab": {
      "provenance": []
    },
    "kernelspec": {
      "display_name": "Python 3 (ipykernel)",
      "language": "python",
      "name": "python3"
    },
    "language_info": {
      "codemirror_mode": {
        "name": "ipython",
        "version": 3
      },
      "file_extension": ".py",
      "mimetype": "text/x-python",
      "name": "python",
      "nbconvert_exporter": "python",
      "pygments_lexer": "ipython3",
      "version": "3.10.8"
    }
  },
  "nbformat": 4,
  "nbformat_minor": 5
}
