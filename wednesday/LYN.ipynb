{
  "nbformat": 4,
  "nbformat_minor": 0,
  "metadata": {
    "colab": {
      "provenance": []
    },
    "kernelspec": {
      "name": "python3",
      "display_name": "Python 3"
    },
    "language_info": {
      "name": "python"
    }
  },
  "cells": [
    {
      "cell_type": "code",
      "execution_count": null,
      "metadata": {
        "id": "xUquHXVJ_Set"
      },
      "outputs": [],
      "source": [
        "v1=input(\"give one number.\")\n",
        "v2= input(\"give another number greater than the previous number.\")\n",
        "if v1 > 2:\n",
        "  for i in range(v2, v1):\n",
        "    for d in range(2,i):\n",
        "      if i%d == 0:\n",
        "       print(\"not prime\")\n",
        "    break\n",
        "  else:\n",
        "    print('prime')\n",
        "elif v1<v2:\n",
        "  for i in range(v1, v2):\n",
        "   if d in range(2,i):\n",
        "    print(\"not prime\")\n",
        "    break\n",
        "else:\n",
        "    print('no range')\n"
      ]
    }
  ]
}