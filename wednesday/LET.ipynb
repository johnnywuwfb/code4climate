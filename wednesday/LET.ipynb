{
  "nbformat": 4,
  "nbformat_minor": 0,
  "metadata": {
    "colab": {
      "provenance": []
    },
    "kernelspec": {
      "name": "python3",
      "display_name": "Python 3"
    },
    "language_info": {
      "name": "python"
    }
  },
  "cells": [
    {
      "cell_type": "code",
      "execution_count": 9,
      "metadata": {
        "id": "xUquHXVJ_Set",
        "outputId": "ffa6ea2e-e3c9-436f-b744-bbd56ae12954",
        "colab": {
          "base_uri": "https://localhost:8080/",
          "height": 276
        }
      },
      "outputs": [
        {
          "name": "stdout",
          "output_type": "stream",
          "text": [
            "Enter a number: 0\n",
            "Enter a bigger number: 10\n"
          ]
        },
        {
          "output_type": "error",
          "ename": "NameError",
          "evalue": "ignored",
          "traceback": [
            "\u001b[0;31m---------------------------------------------------------------------------\u001b[0m",
            "\u001b[0;31mNameError\u001b[0m                                 Traceback (most recent call last)",
            "\u001b[0;32m<ipython-input-9-451a2ee7b722>\u001b[0m in \u001b[0;36m<cell line: 5>\u001b[0;34m()\u001b[0m\n\u001b[1;32m      3\u001b[0m \u001b[0;32mif\u001b[0m \u001b[0mlower\u001b[0m\u001b[0;34m>=\u001b[0m\u001b[0mupper\u001b[0m\u001b[0;34m:\u001b[0m \u001b[0mprint\u001b[0m\u001b[0;34m(\u001b[0m\u001b[0;34m\"not valid\"\u001b[0m\u001b[0;34m)\u001b[0m\u001b[0;34m\u001b[0m\u001b[0;34m\u001b[0m\u001b[0m\n\u001b[1;32m      4\u001b[0m \u001b[0;34m\u001b[0m\u001b[0m\n\u001b[0;32m----> 5\u001b[0;31m \u001b[0modd_square_numbers_in_range\u001b[0m\u001b[0;34m(\u001b[0m\u001b[0mlower\u001b[0m\u001b[0;34m,\u001b[0m\u001b[0mupper\u001b[0m\u001b[0;34m)\u001b[0m\u001b[0;34m\u001b[0m\u001b[0;34m\u001b[0m\u001b[0m\n\u001b[0m\u001b[1;32m      6\u001b[0m \u001b[0;34m\u001b[0m\u001b[0m\n\u001b[1;32m      7\u001b[0m \u001b[0;34m\u001b[0m\u001b[0m\n",
            "\u001b[0;31mNameError\u001b[0m: name 'odd_square_numbers_in_range' is not defined"
          ]
        }
      ],
      "source": [
        "lower=int(input(\"Enter a number: \"))\n",
        "upper=int(input(\"Enter a bigger number: \"))\n",
        "if lower>=upper: print(\"not valid\")\n",
        "\n",
        "odd_square_numbers_in_range(lower,upper)\n",
        "\n",
        "\n",
        "def odd_square_numbers_in_range(lower, upper):\n",
        "  for val in range(lower, upper):\n",
        "    if val%2==1 :\n",
        "     int(val**0.5)  ## squareroot, convert to integer, and then check if integer is divisor of original value\n",
        "    if int(val)%int(val**0.5)==0:\n",
        "        print(val)\n",
        "\n",
        "\n",
        "\n"
      ]
    },
    {
      "cell_type": "code",
      "source": [],
      "metadata": {
        "id": "Cp5UX42eN_6c"
      },
      "execution_count": null,
      "outputs": []
    }
  ]
}